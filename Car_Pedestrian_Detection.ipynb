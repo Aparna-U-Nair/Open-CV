{
 "cells": [
  {
   "cell_type": "code",
   "execution_count": 1,
   "metadata": {},
   "outputs": [
    {
     "name": "stdout",
     "output_type": "stream",
     "text": [
      "C:\\Users\\Aparna\\Anaconda3\\python.exe\n"
     ]
    }
   ],
   "source": [
    "import sys\n",
    "print(sys.executable)"
   ]
  },
  {
   "cell_type": "code",
   "execution_count": 3,
   "metadata": {},
   "outputs": [],
   "source": [
    "#Human Body\n",
    "\n",
    "import cv2\n",
    "import numpy as np\n",
    "\n",
    "model = cv2.CascadeClassifier(\"F:/Udemy-DLCV/Master OpenCV/Haarcascades/haarcascade_fullbody.xml\")\n",
    "\n",
    "cap = cv2.VideoCapture(\"F:/Udemy-DLCV/Master OpenCV/images/walking.avi\")\n",
    "    \n",
    "while cap.isOpened():\n",
    "    _, frame = cap.read()\n",
    "    #fx,fy = scaling factors\n",
    "    img = cv2.resize(frame,None,fx =0.5,fy=0.5,interpolation = cv2.INTER_LINEAR)\n",
    "    gray = cv2.cvtColor(img,cv2.COLOR_BGR2GRAY)\n",
    "    body = model.detectMultiScale(gray,1.5,5)\n",
    "    for (x,y,w,h) in body:\n",
    "        cv2.rectangle(img, (x,y),(x+w,y+h),(0,255,0),2)\n",
    "        cv2.imshow('Frames',img)\n",
    "    if cv2.waitKey(1)==13:\n",
    "        break\n",
    "\n",
    "cap.release()        \n",
    "cv2.destroyAllWindows()"
   ]
  },
  {
   "cell_type": "code",
   "execution_count": 7,
   "metadata": {},
   "outputs": [],
   "source": [
    "#Car detection\n",
    "import cv2\n",
    "import time\n",
    "import numpy as np\n",
    "\n",
    "model = cv2.CascadeClassifier(\"F:/Udemy-DLCV/Master OpenCV/Haarcascades/haarcascade_car.xml\")\n",
    "\n",
    "cap = cv2.VideoCapture(\"F:/Udemy-DLCV/Master OpenCV/images/cars.avi\")\n",
    "    \n",
    "while cap.isOpened():\n",
    "#     time.sleep(0.05)\n",
    "    _, frame = cap.read()\n",
    "    #fx,fy = scaling factors\n",
    "    gray = cv2.cvtColor(frame,cv2.COLOR_BGR2GRAY)\n",
    "    cars = model.detectMultiScale(gray,1.5,5)\n",
    "    for (x,y,w,h) in cars:\n",
    "        cv2.rectangle(frame, (x,y),(x+w,y+h),(0,255,0),2)\n",
    "        cv2.imshow('Frames',frame)\n",
    "    if cv2.waitKey(1)==13:\n",
    "        break\n",
    "\n",
    "cap.release()        \n",
    "cv2.destroyAllWindows()"
   ]
  },
  {
   "cell_type": "code",
   "execution_count": null,
   "metadata": {},
   "outputs": [],
   "source": []
  }
 ],
 "metadata": {
  "kernelspec": {
   "display_name": "Python 3",
   "language": "python",
   "name": "python3"
  },
  "language_info": {
   "codemirror_mode": {
    "name": "ipython",
    "version": 3
   },
   "file_extension": ".py",
   "mimetype": "text/x-python",
   "name": "python",
   "nbconvert_exporter": "python",
   "pygments_lexer": "ipython3",
   "version": "3.7.4"
  }
 },
 "nbformat": 4,
 "nbformat_minor": 2
}
