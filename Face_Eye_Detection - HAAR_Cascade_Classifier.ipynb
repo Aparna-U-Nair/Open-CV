{
 "cells": [
  {
   "cell_type": "code",
   "execution_count": null,
   "metadata": {},
   "outputs": [],
   "source": [
    "import numpy as np\n",
    "import cv2"
   ]
  },
  {
   "cell_type": "code",
   "execution_count": null,
   "metadata": {},
   "outputs": [],
   "source": [
    "face_model = cv2.CascadeClassifier('F:/Udemy-DLCV/Master OpenCV/Haarcascades/haarcascade_frontalface_default.xml')\n",
    "eye_model = cv2.CascadeClassifier('F:/Udemy-DLCV/Master OpenCV/Haarcascades/haarcascade_eye.xml')\n",
    "\n",
    "img = cv2.imread('F:/Udemy-DLCV/Master OpenCV/images/Hillary.jpg')\n",
    "gray = cv2.cvtColor(img, cv2.COLOR_BGR2GRAY)\n",
    "cv2.imshow('Original', img)\n",
    "\n",
    "#gray, scaling,sensitivity.\n",
    "faces = face_model.detectMultiScale(gray, 1.2, 5)\n",
    "\n",
    "if faces is ():\n",
    "    print('No Face Found')\n",
    "\n",
    "else:\n",
    "    counter = 1\n",
    "    for (x,y,w,h) in faces:\n",
    "        cv2.rectangle(img, (x,y),(x+w,y+h),(0,255,0),2)\n",
    "        cv2.imshow(f'Face{counter}',img)\n",
    "        #region of interest\n",
    "        roi_gray = gray[y:y+h, x:x+w]\n",
    "        roi_img = img[y:y+h, x:x+w]\n",
    "        eyes = eye_model.detectMultiScale(roi_gray)\n",
    "        for (ex,ey,ew,eh) in eyes:\n",
    "            cv2.rectangle(roi_img, (ex,ey),(ex+ew,ey+eh),(0,255,0),2)\n",
    "            cv2.imshow(f'Eyes{counter}',img)\n",
    "        counter += 1\n",
    "\n",
    "\n",
    "# cv2.imshow('Source', img)\n",
    "# cv2.imshow('Gray', gray)\n",
    "\n",
    "cv2.waitKey()\n",
    "cv2.destroyAllWindows()"
   ]
  },
  {
   "cell_type": "code",
   "execution_count": null,
   "metadata": {},
   "outputs": [],
   "source": []
  },
  {
   "cell_type": "code",
   "execution_count": null,
   "metadata": {},
   "outputs": [],
   "source": [
    "#Live face eye detection\n",
    "\n",
    "face_model = cv2.CascadeClassifier('F:/Udemy-DLCV/Master OpenCV/Haarcascades/haarcascade_frontalface_default.xml')\n",
    "eye_model = cv2.CascadeClassifier('F:/Udemy-DLCV/Master OpenCV/Haarcascades/haarcascade_eye.xml')\n",
    "\n",
    "def face_eye_detector(img):\n",
    "    gray = cv2.cvtColor(img,cv2.COLOR_BGR2GRAY)\n",
    "    faces = face_model.detectMultiScale(gray, 1.5, 3)\n",
    "\n",
    "    if faces is ():\n",
    "        return 'No Face Found'\n",
    "    counter = 1\n",
    "    for (x,y,w,h) in faces:\n",
    "        cv2.rectangle(img, (x,y),(x+w,y+h),(0,255,0),2)\n",
    "        #region of interest\n",
    "        roi_gray = gray[y:y+h, x:x+w]\n",
    "        roi_img = img[y:y+h, x:x+w]\n",
    "        eyes = eye_model.detectMultiScale(roi_gray)\n",
    "        for (ex,ey,ew,eh) in eyes:\n",
    "            cv2.rectangle(roi_img, (ex,ey),(ex+ew,ey+eh),(0,255,0),2)\n",
    "    roi_img = cv2.flip(roi_img,1)        \n",
    "    return roi_img\n",
    "\n",
    "cap = cv2.VideoCapture(0)\n",
    "while True:\n",
    "    _, frame = cap.read()\n",
    "    cv2.imshow('Final',face_eye_detector(frame))\n",
    "    if cv2.waitKey(1) == 13:\n",
    "        break\n",
    "\n",
    "\n",
    "cap.release()\n",
    "cv2.destroyAllWindows()"
   ]
  },
  {
   "cell_type": "code",
   "execution_count": null,
   "metadata": {},
   "outputs": [],
   "source": []
  }
 ],
 "metadata": {
  "kernelspec": {
   "display_name": "Python 3",
   "language": "python",
   "name": "python3"
  },
  "language_info": {
   "codemirror_mode": {
    "name": "ipython",
    "version": 3
   },
   "file_extension": ".py",
   "mimetype": "text/x-python",
   "name": "python",
   "nbconvert_exporter": "python",
   "pygments_lexer": "ipython3",
   "version": "3.7.4"
  }
 },
 "nbformat": 4,
 "nbformat_minor": 2
}
