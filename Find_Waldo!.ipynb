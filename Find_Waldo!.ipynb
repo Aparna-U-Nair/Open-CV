{
 "cells": [
  {
   "cell_type": "code",
   "execution_count": 1,
   "metadata": {},
   "outputs": [],
   "source": [
    "import numpy as np\n",
    "import cv2"
   ]
  },
  {
   "cell_type": "code",
   "execution_count": 10,
   "metadata": {},
   "outputs": [],
   "source": [
    "img = cv2.imread('F:/Udemy-DLCV/Master OpenCV/images/WaldoBeach.jpg')\n",
    "gray = cv2.cvtColor(img, cv2.COLOR_BGR2GRAY)\n",
    "\n",
    "cv2.imshow('Source', img)\n",
    "cv2.imshow('Gray', gray)\n",
    "\n",
    "template = cv2.imread('F:/Udemy-DLCV/Master OpenCV/images/waldo.jpg',0) #As 0 is there it ll convert this to grayscale\n",
    "cv2.imshow('Template', template)\n",
    "\n",
    "match = cv2.matchTemplate(gray, template,cv2.TM_CCOEFF )\n",
    "min_val, max_val, min_loc, max_loc = cv2.minMaxLoc(match)\n",
    "\n",
    "# MaxLoc means where is the highest intensity in the image returned by matchTemplate which would correspond to the best match \n",
    "# in your image w.r.t. to your template ( for specific correlation methods only, for TM_SQDIFF or TM_SQDIFF_NORMED the best \n",
    "# match would be the minVal).\n",
    "\n",
    "top_left = max_loc\n",
    "bottom_right = (top_left[0] + 50, top_left[1] + 50)\n",
    "cv2.rectangle(img,top_left,bottom_right,(0,0,255),4)\n",
    "\n",
    "cv2.imshow('Final',img)\n",
    "cv2.waitKey()\n",
    "cv2.destroyAllWindows()"
   ]
  },
  {
   "cell_type": "code",
   "execution_count": null,
   "metadata": {},
   "outputs": [],
   "source": []
  }
 ],
 "metadata": {
  "kernelspec": {
   "display_name": "Python 3",
   "language": "python",
   "name": "python3"
  },
  "language_info": {
   "codemirror_mode": {
    "name": "ipython",
    "version": 3
   },
   "file_extension": ".py",
   "mimetype": "text/x-python",
   "name": "python",
   "nbconvert_exporter": "python",
   "pygments_lexer": "ipython3",
   "version": "3.7.4"
  }
 },
 "nbformat": 4,
 "nbformat_minor": 2
}
