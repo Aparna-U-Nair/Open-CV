{
 "cells": [
  {
   "cell_type": "code",
   "execution_count": 1,
   "metadata": {},
   "outputs": [],
   "source": [
    "import cv2\n",
    "import numpy as np"
   ]
  },
  {
   "cell_type": "code",
   "execution_count": 36,
   "metadata": {},
   "outputs": [],
   "source": [
    "capture = cv2.VideoCapture(0)\n",
    "\n",
    "def imageProcessing(image):\n",
    "    img = cv2.flip(image,1)\n",
    "    img = cv2.GaussianBlur(img, (3,3),0)\n",
    "    img = cv2.Canny(img, 30,120)\n",
    "    _, img = cv2.threshold(img, 50, 200, cv2.THRESH_BINARY_INV)\n",
    "    return img\n",
    "\n",
    "while True:\n",
    "    # _ is a boolean indicating if it was sucessful\n",
    "    # frame gets the images collected from the webcam\n",
    "    _, frame = capture.read()\n",
    "    cv2.imshow('My Video', imageProcessing(frame))\n",
    "    if cv2.waitKey(1) == 13:\n",
    "        #The frame will be stopped when Enter key is pressed.\n",
    "        break\n",
    "\n",
    "# This will release the capture object\n",
    "capture.release()\n",
    "cv2.destroyAllWindows()"
   ]
  }
 ],
 "metadata": {
  "kernelspec": {
   "display_name": "Python 3",
   "language": "python",
   "name": "python3"
  },
  "language_info": {
   "codemirror_mode": {
    "name": "ipython",
    "version": 3
   },
   "file_extension": ".py",
   "mimetype": "text/x-python",
   "name": "python",
   "nbconvert_exporter": "python",
   "pygments_lexer": "ipython3",
   "version": "3.7.4"
  }
 },
 "nbformat": 4,
 "nbformat_minor": 2
}
