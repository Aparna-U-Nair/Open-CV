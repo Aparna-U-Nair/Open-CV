{
 "cells": [
  {
   "cell_type": "code",
   "execution_count": 33,
   "metadata": {},
   "outputs": [],
   "source": [
    "import numpy as np\n",
    "import cv2\n",
    "import pyttsx3"
   ]
  },
  {
   "cell_type": "code",
   "execution_count": 56,
   "metadata": {},
   "outputs": [],
   "source": [
    "engine = pyttsx3.init()\n",
    "\n",
    "img = cv2.imread('F:/Udemy-DLCV/Master OpenCV/images/someshapes.jpg')\n",
    "gray = cv2.cvtColor(img, cv2.COLOR_BGR2GRAY)\n",
    "_,thr = cv2.threshold(gray, 127, 255, 1)\n",
    "\n",
    "# cv2.imshow('Threshold', thr)\n",
    "\n",
    "cont, hier = cv2.findContours(thr.copy(), cv2.RETR_LIST, cv2.CHAIN_APPROX_NONE)\n",
    "# print(len(cont))\n",
    "for c in cont:\n",
    "    approx = cv2.approxPolyDP(c, 0.02*cv2.arcLength(c,True),True)\n",
    "#     print(len(approx))\n",
    "    M = cv2.moments(c)\n",
    "    cx, cy = int(M['m10']/M['m00']), int(M['m01']/M['m00'])\n",
    "    if len(approx) == 3:\n",
    "        text = 'Triangle'\n",
    "        engine.say(text)\n",
    "        cv2.drawContours(img, [c], 0, (10,80,60),-1)\n",
    "        cv2.putText(img, text, (cx-50,cy), cv2.FONT_HERSHEY_SCRIPT_COMPLEX, 1, (0, 0, 0), 1)\n",
    "        cv2.imshow('Identified', img)\n",
    "        engine.runAndWait()\n",
    "    elif len(approx) == 4:\n",
    "        x,y,w,h = cv2.boundingRect(c)\n",
    "#         print(x,y,w,h)\n",
    "        if abs(w-h)<=3:\n",
    "            text = 'Square'\n",
    "            engine.say(text)\n",
    "            cv2.drawContours(img, [c], 0, (10,80,60),-1)\n",
    "            cv2.putText(img, text, (cx-50,cy), cv2.FONT_HERSHEY_SCRIPT_COMPLEX, 1, (0, 0, 0), 1)\n",
    "            cv2.imshow('Identified', img)\n",
    "            engine.runAndWait()\n",
    "        else:\n",
    "            text = 'Rectangle'\n",
    "            engine.say(text)\n",
    "            cv2.drawContours(img, [c], 0, (10,80,60),-1)\n",
    "            cv2.putText(img, text, (cx-80,cy), cv2.FONT_HERSHEY_SCRIPT_COMPLEX, 1, (0, 0, 0), 1)\n",
    "            cv2.imshow('Identified', img)\n",
    "            engine.runAndWait()\n",
    "    elif len(approx) == 10:\n",
    "        text = 'Star'\n",
    "        engine.say(text)\n",
    "        cv2.drawContours(img, [c], 0, (10,80,60),-1)\n",
    "        cv2.putText(img, text, (cx-30,cy), cv2.FONT_HERSHEY_SCRIPT_COMPLEX, 1, (0, 0, 0), 1)\n",
    "        cv2.imshow('Identified', img)\n",
    "        engine.runAndWait()\n",
    "    elif len(approx) == 8:\n",
    "        text = 'Circle'\n",
    "        engine.say(text)\n",
    "        cv2.drawContours(img, [c], 0, (10,80,60),-1)\n",
    "        cv2.putText(img, text, (cx-40,cy), cv2.FONT_HERSHEY_SCRIPT_COMPLEX, 1, (0, 0, 0), 1)\n",
    "        cv2.imshow('Identified', img)\n",
    "        engine.runAndWait()\n",
    "    else:\n",
    "        text = 'Unidentified'\n",
    "        engine.say(text)\n",
    "        cv2.drawContours(img, [c], 0, (10,80,60),-1)\n",
    "        cv2.putText(img, text, (cx-80,cy), cv2.FONT_HERSHEY_SCRIPT_COMPLEX, 1, (0, 0, 0), 1)\n",
    "        cv2.imshow('Identified', img) \n",
    "        engine.runAndWait()\n",
    "        \n",
    "# cv2.imshow('Final', img) \n",
    "cv2.waitKey()\n",
    "cv2.destroyAllWindows()"
   ]
  },
  {
   "cell_type": "code",
   "execution_count": 57,
   "metadata": {},
   "outputs": [],
   "source": []
  }
 ],
 "metadata": {
  "kernelspec": {
   "display_name": "Python 3",
   "language": "python",
   "name": "python3"
  },
  "language_info": {
   "codemirror_mode": {
    "name": "ipython",
    "version": 3
   },
   "file_extension": ".py",
   "mimetype": "text/x-python",
   "name": "python",
   "nbconvert_exporter": "python",
   "pygments_lexer": "ipython3",
   "version": "3.7.4"
  }
 },
 "nbformat": 4,
 "nbformat_minor": 2
}
